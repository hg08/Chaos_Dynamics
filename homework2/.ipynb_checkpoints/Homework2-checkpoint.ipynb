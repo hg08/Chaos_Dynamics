{
 "cells": [
  {
   "cell_type": "code",
   "execution_count": 1,
   "metadata": {},
   "outputs": [],
   "source": [
    "import numpy as np\n",
    "import matplotlib.pyplot as plt"
   ]
  },
  {
   "cell_type": "code",
   "execution_count": 8,
   "metadata": {},
   "outputs": [
    {
     "data": {
      "text/plain": [
       "(2000, 2000)"
      ]
     },
     "execution_count": 8,
     "metadata": {},
     "output_type": "execute_result"
    }
   ],
   "source": [
    "# integer, parameter :: steps \n",
    "# integer, parameter :: nmovie\n",
    "# real, parameter :: x0 \n",
    "# char(len=200), parameter :: file_o\n",
    "\n",
    "steps = 2000\n",
    "nmovie = 2000\n",
    "new_start_nmovie = 1500\n",
    "x0 = 0.3\n",
    "name = \"traj_x.dat\"\n",
    "x = np.zeros((steps,nmovie))\n",
    "x.shape"
   ]
  },
  {
   "cell_type": "code",
   "execution_count": 9,
   "metadata": {},
   "outputs": [
    {
     "name": "stderr",
     "output_type": "stream",
     "text": [
      "/home/gang/.gangprograms/conda/lib/python3.7/site-packages/ipykernel_launcher.py:6: RuntimeWarning: overflow encountered in double_scalars\n",
      "  \n"
     ]
    }
   ],
   "source": [
    "for j in range(steps):\n",
    "    mu = 1 + j * 2/steps\n",
    "    x[j][0] = x0\n",
    "    for i in range(nmovie-1):\n",
    "        if x[j][i] <0:\n",
    "            x[j][i+1] = mu * (x[j][i] + 1)\n",
    "        elif x[j][i] >0:\n",
    "            x[j][i+1] = -mu * (x[j][i] - 1)"
   ]
  },
  {
   "cell_type": "code",
   "execution_count": 10,
   "metadata": {},
   "outputs": [
    {
     "name": "stdout",
     "output_type": "stream",
     "text": [
      "written in traj_x.dat.\n"
     ]
    }
   ],
   "source": [
    "file_o = open(name, 'w') #store the trajectory into file_o\n",
    "\n",
    "#================================================\n",
    "#The first lines of the cube file are written\n",
    "file_o.write(\"#   t     x    \\n\")\n",
    "\n",
    "#================================================\n",
    "# format of data\n",
    "#{0:5d} means: the data number 0 is an integer and will be printed with 5 digits\n",
    "#{1:12.6f} means: the data number 1 is float and will be printed with 12 digits whom 6 will be after the .\n",
    "for j in range(steps):\n",
    "    mu = 1+ j * 2/steps\n",
    "    for i in range(new_start_nmovie,nmovie-1,1):\n",
    "        file_o.write(\"{0:12.6f} {1:12.6f} {2:12.6f}\\n\".format(i,mu,x[j][i]))\n",
    "        \n",
    "print('written in ' + name + '.')"
   ]
  },
  {
   "cell_type": "code",
   "execution_count": null,
   "metadata": {},
   "outputs": [],
   "source": []
  }
 ],
 "metadata": {
  "kernelspec": {
   "display_name": "Python 3",
   "language": "python",
   "name": "python3"
  },
  "language_info": {
   "codemirror_mode": {
    "name": "ipython",
    "version": 3
   },
   "file_extension": ".py",
   "mimetype": "text/x-python",
   "name": "python",
   "nbconvert_exporter": "python",
   "pygments_lexer": "ipython3",
   "version": "3.7.4"
  }
 },
 "nbformat": 4,
 "nbformat_minor": 2
}
