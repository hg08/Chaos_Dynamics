{
 "cells": [
  {
   "cell_type": "markdown",
   "metadata": {},
   "source": [
    "# 2. 抛物线映射的不动点的稳定性分析\n",
    "## 2.1 求出稳定性条件"
   ]
  },
  {
   "cell_type": "markdown",
   "metadata": {},
   "source": [
    "模型可以用迭代方程写为：$f(x)= 1 -\\mu x^2$."
   ]
  },
  {
   "cell_type": "markdown",
   "metadata": {},
   "source": [
    "由不动点定义，得到 $x^* = 1-\\mu (x^*)^2$.\n",
    "不断的迭代过程中，我们设每次得到的状态变量$x_n$为： $x_n = x^* + \\epsilon_n$;\n",
    "\n",
    "$x_{n+1} = x^* + \\epsilon_{n+1}$.\n",
    "我们来考察模型迭代的稳定性，即，看看$|\\epsilon_{n+1}/\\epsilon_{n}|<1$是否成立？\n",
    "将$x_n = x^* + \\epsilon_n$，$x_{n+1} = x^* + \\epsilon_{n+1}$代入迭代方程，并注意到$\\epsilon_n$是小量，利用泰勒展开，容易得到，稳定性条件为"
   ]
  },
  {
   "cell_type": "markdown",
   "metadata": {},
   "source": [
    "$|f'(x^*)| \\le 1$."
   ]
  },
  {
   "cell_type": "markdown",
   "metadata": {},
   "source": [
    "不动点方程为：\n",
    "$x= 1 -\\mu x^2$."
   ]
  },
  {
   "cell_type": "code",
   "execution_count": 3,
   "metadata": {},
   "outputs": [
    {
     "data": {
      "text/plain": [
       "[(sqrt(4*mu + 1) - 1)/(2*mu), -(sqrt(4*mu + 1) + 1)/(2*mu)]"
      ]
     },
     "execution_count": 3,
     "metadata": {},
     "output_type": "execute_result"
    }
   ],
   "source": [
    "import sympy\n",
    "x = sympy.Symbol('x')\n",
    "mu = sympy.Symbol('mu')\n",
    "sympy.solve(1-mu*x**2-x, x)"
   ]
  },
  {
   "cell_type": "markdown",
   "metadata": {},
   "source": [
    "所以，我们得到不动点：\n",
    "\n",
    "$x_1^*=(\\sqrt{(4\\mu + 1)} - 1)/(2\\mu)$\n",
    "\n",
    "$x_2^* =-(\\sqrt{(4\\mu + 1)} + 1)/(2\\mu)$"
   ]
  },
  {
   "cell_type": "markdown",
   "metadata": {},
   "source": [
    "## 2.2. 不动点的稳定性分析：\n",
    "$|f'(x^*)| \\le 1$."
   ]
  },
  {
   "cell_type": "markdown",
   "metadata": {},
   "source": [
    "讨论：\n",
    "1.  $x^* = x_1^*=(\\sqrt{(4\\mu + 1)} - 1)/(2\\mu)$:\n",
    "\n",
    "(1) $f'(x^*)=0$：\n",
    "因为$f'(x) = -2\\mu x$，所以，解如下"
   ]
  },
  {
   "cell_type": "code",
   "execution_count": 15,
   "metadata": {},
   "outputs": [
    {
     "data": {
      "text/plain": [
       "[0]"
      ]
     },
     "execution_count": 15,
     "metadata": {},
     "output_type": "execute_result"
    }
   ],
   "source": [
    "x1 = (sympy.sqrt(4*mu + 1) - 1)/(2*mu)\n",
    "sympy.solve(-2*mu*x1, mu)"
   ]
  },
  {
   "cell_type": "markdown",
   "metadata": {},
   "source": [
    "$\\mu=0$时，一个超稳定轨道."
   ]
  },
  {
   "cell_type": "markdown",
   "metadata": {},
   "source": [
    "(2a) $f'(x^*)=-1$："
   ]
  },
  {
   "cell_type": "code",
   "execution_count": 16,
   "metadata": {},
   "outputs": [
    {
     "data": {
      "text/plain": [
       "[3/4]"
      ]
     },
     "execution_count": 16,
     "metadata": {},
     "output_type": "execute_result"
    }
   ],
   "source": [
    "sympy.solve(-2*mu*x1+1, mu)"
   ]
  },
  {
   "cell_type": "markdown",
   "metadata": {},
   "source": [
    "$\\mu = 3/4$是倍分岔的位置。"
   ]
  },
  {
   "cell_type": "markdown",
   "metadata": {},
   "source": [
    "(2b) $f'(x^*)=1$："
   ]
  },
  {
   "cell_type": "code",
   "execution_count": 17,
   "metadata": {},
   "outputs": [
    {
     "data": {
      "text/plain": [
       "[-1/4]"
      ]
     },
     "execution_count": 17,
     "metadata": {},
     "output_type": "execute_result"
    }
   ],
   "source": [
    "sympy.solve(-2*mu*x1-1, mu)"
   ]
  },
  {
   "cell_type": "markdown",
   "metadata": {},
   "source": [
    "$\\mu=-1/4$是切分岔的位置。"
   ]
  },
  {
   "cell_type": "markdown",
   "metadata": {},
   "source": [
    "2.  $x^* = x_2^*= -(\\sqrt{(4\\mu + 1)} + 1)/(2\\mu)$:"
   ]
  },
  {
   "cell_type": "markdown",
   "metadata": {},
   "source": [
    "(1) $f'(x^*)=0$："
   ]
  },
  {
   "cell_type": "code",
   "execution_count": 10,
   "metadata": {},
   "outputs": [
    {
     "data": {
      "text/plain": [
       "[]"
      ]
     },
     "execution_count": 10,
     "metadata": {},
     "output_type": "execute_result"
    }
   ],
   "source": [
    "x2 = -(sympy.sqrt(4*mu + 1) + 1)/(2*mu)\n",
    "sympy.solve(-2*mu*x2, mu)"
   ]
  },
  {
   "cell_type": "markdown",
   "metadata": {},
   "source": [
    "无解。"
   ]
  },
  {
   "cell_type": "markdown",
   "metadata": {},
   "source": [
    "(2a) $f'(x^*)=-1$："
   ]
  },
  {
   "cell_type": "code",
   "execution_count": 12,
   "metadata": {},
   "outputs": [
    {
     "data": {
      "text/plain": [
       "[]"
      ]
     },
     "execution_count": 12,
     "metadata": {},
     "output_type": "execute_result"
    }
   ],
   "source": [
    "sympy.solve(-2*mu*x2+1, mu)"
   ]
  },
  {
   "cell_type": "markdown",
   "metadata": {},
   "source": [
    "无解。"
   ]
  },
  {
   "cell_type": "markdown",
   "metadata": {},
   "source": [
    "(2b)$f'(x^*)=1$:"
   ]
  },
  {
   "cell_type": "code",
   "execution_count": 18,
   "metadata": {},
   "outputs": [
    {
     "data": {
      "text/plain": [
       "[-1/4]"
      ]
     },
     "execution_count": 18,
     "metadata": {},
     "output_type": "execute_result"
    }
   ],
   "source": [
    "sympy.solve(-2*mu*x2-1, mu)"
   ]
  },
  {
   "cell_type": "markdown",
   "metadata": {},
   "source": [
    "解得$\\mu=-1/4$."
   ]
  },
  {
   "cell_type": "code",
   "execution_count": null,
   "metadata": {},
   "outputs": [],
   "source": []
  }
 ],
 "metadata": {
  "kernelspec": {
   "display_name": "Python 3",
   "language": "python",
   "name": "python3"
  },
  "language_info": {
   "codemirror_mode": {
    "name": "ipython",
    "version": 3
   },
   "file_extension": ".py",
   "mimetype": "text/x-python",
   "name": "python",
   "nbconvert_exporter": "python",
   "pygments_lexer": "ipython3",
   "version": "3.7.4"
  }
 },
 "nbformat": 4,
 "nbformat_minor": 2
}
