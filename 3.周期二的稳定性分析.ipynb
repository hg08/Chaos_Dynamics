{
 "cells": [
  {
   "cell_type": "markdown",
   "metadata": {},
   "source": [
    "# 3. 抛物线映射周期二的稳定性分析\n",
    "## 3.1 求出周期二的两个\"不动点\""
   ]
  },
  {
   "cell_type": "markdown",
   "metadata": {},
   "source": [
    "模型可以用迭代方程写为：$f(x)= 1 -\\mu x^2$."
   ]
  },
  {
   "cell_type": "markdown",
   "metadata": {},
   "source": [
    "迭代两次的方程，为： $f^{(2)}(x) = f(f(x))$"
   ]
  },
  {
   "cell_type": "markdown",
   "metadata": {},
   "source": [
    "可写为不动点方程：$f^{(2)}(x^*) =x^*$，\n",
    "\n",
    "或者记为\n",
    "$f\\circ f(x)=x$."
   ]
  },
  {
   "cell_type": "markdown",
   "metadata": {},
   "source": [
    "利用一个不动点情形的稳定性条件，$|f'(x^*)| \\le 1$，我们将$f(x)$,换成$f^{(2)}(x)$,就得到了周期二的稳定性条件。如下："
   ]
  },
  {
   "cell_type": "markdown",
   "metadata": {},
   "source": [
    "$|\\frac{\\partial f^{(2)}(x)}{\\partial x}| \\le 1$."
   ]
  },
  {
   "cell_type": "markdown",
   "metadata": {},
   "source": [
    "下面，解出不动点."
   ]
  },
  {
   "cell_type": "code",
   "execution_count": 8,
   "metadata": {},
   "outputs": [
    {
     "data": {
      "text/plain": [
       "[-(sqrt(4*mu - 3) - 1)/(2*mu),\n",
       " (sqrt(4*mu - 3) + 1)/(2*mu),\n",
       " (sqrt(4*mu + 1) - 1)/(2*mu),\n",
       " -(sqrt(4*mu + 1) + 1)/(2*mu)]"
      ]
     },
     "execution_count": 8,
     "metadata": {},
     "output_type": "execute_result"
    }
   ],
   "source": [
    "import sympy\n",
    "x = Symbol('x')\n",
    "mu = Symbol('mu')\n",
    "solve(1-mu*(1-mu*x**2)**2 -x, x)"
   ]
  },
  {
   "cell_type": "markdown",
   "metadata": {},
   "source": [
    "$x_1^* = -(\\sqrt{(4\\mu - 3)} - 1)/(2\\mu)$\n",
    "\n",
    "$x_2^* = (\\sqrt{(4\\mu - 3)} + 1)/(2\\mu)$\n",
    "\n",
    "$x_3^*=(\\sqrt{(4\\mu + 1)} - 1)/(2\\mu)$\n",
    "\n",
    "$x_4^* =-(\\sqrt{(4\\mu + 1)} + 1)/(2\\mu)$\n",
    "\n",
    "后面两个解，与不动点情形下的解一样。去掉这两个解。"
   ]
  },
  {
   "cell_type": "markdown",
   "metadata": {},
   "source": [
    "## 3.2. 周期二的稳定性分析：\n",
    "$|\\frac{\\partial f^{(2)}(x)}{\\partial x}| \\le 1$,或写为\n",
    "\n",
    "$|\\frac{\\partial [f\\circ f(x)]}{\\partial x}| \\le 1$."
   ]
  },
  {
   "cell_type": "markdown",
   "metadata": {},
   "source": [
    "左边可表示为：$|f'(x_1^*)f'(x_2^*)|$"
   ]
  },
  {
   "cell_type": "markdown",
   "metadata": {},
   "source": [
    "讨论：\n",
    "(1) $f'(x_1^*)f'(x_2^*)=0$："
   ]
  },
  {
   "cell_type": "code",
   "execution_count": 14,
   "metadata": {},
   "outputs": [
    {
     "data": {
      "text/plain": [
       "[1]"
      ]
     },
     "execution_count": 14,
     "metadata": {},
     "output_type": "execute_result"
    }
   ],
   "source": [
    "x1 = -(sympy.sqrt(4*mu - 3) - 1)/(2*mu)\n",
    "x2 = (sympy.sqrt(4*mu - 3) + 1)/(2*mu)\n",
    "\n",
    "solve(-2*mu*x1, mu)"
   ]
  },
  {
   "cell_type": "markdown",
   "metadata": {},
   "source": [
    "$\\mu=1$时，是周期二的一个超稳定轨道."
   ]
  },
  {
   "cell_type": "code",
   "execution_count": 15,
   "metadata": {},
   "outputs": [
    {
     "data": {
      "text/plain": [
       "[]"
      ]
     },
     "execution_count": 15,
     "metadata": {},
     "output_type": "execute_result"
    }
   ],
   "source": [
    "x1 = -(sympy.sqrt(4*mu - 3) - 1)/(2*mu)\n",
    "x2 = (sympy.sqrt(4*mu - 3) + 1)/(2*mu)\n",
    "\n",
    "solve(-2*mu*x2, mu)"
   ]
  },
  {
   "cell_type": "markdown",
   "metadata": {},
   "source": [
    "带入$x_2^* = (\\sqrt{(4\\mu - 3)} + 1)/(2\\mu)$时, 无解."
   ]
  },
  {
   "cell_type": "markdown",
   "metadata": {},
   "source": [
    "(2) $f'(x_1^*)f'(x_2^*)=-1$：\n",
    "因为$f'(x) = -2\\mu x$，所以，解如下"
   ]
  },
  {
   "cell_type": "code",
   "execution_count": 16,
   "metadata": {},
   "outputs": [
    {
     "data": {
      "text/plain": [
       "[5/4]"
      ]
     },
     "execution_count": 16,
     "metadata": {},
     "output_type": "execute_result"
    }
   ],
   "source": [
    "solve((-2*mu*x2)*(-2*mu*x1)+1, mu)"
   ]
  },
  {
   "cell_type": "markdown",
   "metadata": {},
   "source": [
    "(3) $f'(x_1^*)f'(x_2^*)=1$：\n",
    "因为$f'(x) = -2\\mu x$，所以，解如下"
   ]
  },
  {
   "cell_type": "code",
   "execution_count": 17,
   "metadata": {},
   "outputs": [
    {
     "data": {
      "text/plain": [
       "[3/4]"
      ]
     },
     "execution_count": 17,
     "metadata": {},
     "output_type": "execute_result"
    }
   ],
   "source": [
    "solve((-2*mu*x2)*(-2*mu*x1)-1, mu)"
   ]
  }
 ],
 "metadata": {
  "kernelspec": {
   "display_name": "Python 3",
   "language": "python",
   "name": "python3"
  },
  "language_info": {
   "codemirror_mode": {
    "name": "ipython",
    "version": 3
   },
   "file_extension": ".py",
   "mimetype": "text/x-python",
   "name": "python",
   "nbconvert_exporter": "python",
   "pygments_lexer": "ipython3",
   "version": "3.7.4"
  }
 },
 "nbformat": 4,
 "nbformat_minor": 2
}
